{
 "cells": [
  {
   "cell_type": "markdown",
   "id": "e6ead9ef-1e0f-4e81-80d6-4271dbdea2c7",
   "metadata": {},
   "source": [
    "Q.1.What is a database ? Differentiate between SQL and NoSQL databases."
   ]
  },
  {
   "cell_type": "markdown",
   "id": "34a7f928-74fa-4969-aa9e-448d5e1f39ae",
   "metadata": {},
   "source": [
    "Ans.A database is a structured collecton of data organized in a way that allows efficient storage ,retrieval and management of information ."
   ]
  },
  {
   "cell_type": "markdown",
   "id": "4e96f804-af61-4f3c-8cf9-045c9c767317",
   "metadata": {},
   "source": [
    "SQL(Structured Query Language) databases are relational databases that store data in tabular form wiht predefined schemas .The use of SQL for data manipulation and querying ,providing powerful transaction support and ensuring data integrity .Example of SQL databases include MySQL ,PostSQL , and Oracle."
   ]
  },
  {
   "cell_type": "markdown",
   "id": "be5d11b1-32f5-40d8-9f6c-c2b2ad8f649b",
   "metadata": {},
   "source": [
    "NoSQL databases ,on the other hand ,are nonrelational databases that store data in a various formats ,such as key value pairs,documents,graphs or columns.They are more flexible and scalable ,often used in bigdataand real time applications .NoSQL databases do not require a fixed schema ,making them suitable for handling unstructured or semi-structured data .Example for NoSQL databases include MongoDB ,Cassanda and Redis."
   ]
  },
  {
   "cell_type": "markdown",
   "id": "71db2669-9582-42bd-be4f-61faceaee276",
   "metadata": {},
   "source": [
    "The main differemce b/w SQL and NoSQL databases lies in their data model ,shema flexibility and querying languages .SQL databases are more suited for applications with well  defiend schemas and complex queries ,while NoSQL databases are preferred for scenarios requiring scalabilty ,quick iteration and handling varying  data sructures"
   ]
  },
  {
   "cell_type": "markdown",
   "id": "d3697850-ee8c-4b80-8a98-ba1d458b0b44",
   "metadata": {},
   "source": [
    "Q.2.What is DDL? Explain why CREATE, DROP, ALTER, and TRUNCATE are used with an example."
   ]
  },
  {
   "cell_type": "markdown",
   "id": "57cac251-a454-4582-830d-8e00574a24fc",
   "metadata": {},
   "source": [
    "Ans. DDL stands for Data definition Language ,which is subset of SQL use to define and manage database structures .It deals with creating ,modifying and deleting database objects like tables ,indexes and costrants, Here, we have wexamples for DDL commands:"
   ]
  },
  {
   "cell_type": "markdown",
   "id": "7c9c333e-19fb-473f-b7b5-93fa775bcee5",
   "metadata": {},
   "source": [
    "(a).Create: It is used to create new database objects like tables ,views,indexes,or schemas .For example \"CREATE TABLE\" is used to create a new table with specified columns  and data types."
   ]
  },
  {
   "cell_type": "markdown",
   "id": "5dcc6c7b-e925-4083-8f11-3b67ef1ce9d0",
   "metadata": {},
   "source": [
    "(b).DROP: This commnad is used to remove existing database objects.For instance \"DROP TABLE\" deletes an entire table along with all its data."
   ]
  },
  {
   "cell_type": "markdown",
   "id": "1fb96e9f-f16b-4de4-b2ce-53625d36bfe9",
   "metadata": {},
   "source": [
    "(c).ALTER: ALTER is used to modify the stucture of an existing database object .With \"ALTER TABLE\" we can add ,modify or delete columns in a table , cahnge data type or add constraints."
   ]
  },
  {
   "cell_type": "markdown",
   "id": "7f2a6fde-160f-49a6-b3fc-6cbc49997e21",
   "metadata": {},
   "source": [
    "(d).TRUNCATE: The TRUNCATE command is used to delete all the records from a table while presurving the table's structure .It is faster than the DELETE command as it does not generate indivisual row delete operations and is commonaly used when we want to remove all data from a table "
   ]
  },
  {
   "cell_type": "code",
   "execution_count": null,
   "id": "a980ff1a-68c7-4a46-8c2a-a0099753e173",
   "metadata": {},
   "outputs": [],
   "source": []
  },
  {
   "cell_type": "markdown",
   "id": "e6398453-ca4c-4868-9451-392dd2c6fde3",
   "metadata": {},
   "source": [
    "Q.3. What is DML? Explain INSERT, UPDATE, and DELETE with an example."
   ]
  },
  {
   "cell_type": "markdown",
   "id": "a67d8588-2454-416b-8195-b7ad2f151e02",
   "metadata": {},
   "source": [
    "Ans.DML satands for Data Manipulation Language ,which is another subset of SQL .DML is used to interact with the data stored inthe database ,allowing us to insert ,upate and delete records in table . Here we have the examples for DML commands :"
   ]
  },
  {
   "cell_type": "markdown",
   "id": "5a4c581d-83eb-42fb-a200-e337746b0c2b",
   "metadata": {},
   "source": [
    "(a).INSERT: The INSERT command is used to add new records into a table .It allows us to specify the values for each column or insert data from another table .Here is an example : we have an table called \"Employees\" with columns \"EmployeeID\", \"FirstName\" ,\"LastName\" and \"Department\" we want to insert a new employee:"
   ]
  },
  {
   "cell_type": "code",
   "execution_count": null,
   "id": "1236ba4b-3d4a-4bcb-a9fa-29e077dba0e5",
   "metadata": {},
   "outputs": [],
   "source": [
    "INSERT INTO Empoyees (EmployeeID, FirstName, LastName, Department)\n",
    "VALUES (102, \"Pranay Krishna\", \"Pranay\", \"Krishna\" ,\"DataScience\");"
   ]
  },
  {
   "cell_type": "markdown",
   "id": "410668f3-eac7-4026-9e29-68549f6f5a3a",
   "metadata": {},
   "source": [
    "This query data adds new record to the \"Employees\" table with specified EmployeeID ,FirstName ,LastName, and Department values."
   ]
  },
  {
   "cell_type": "markdown",
   "id": "3f158be9-55e0-4445-b930-5f77e82e2f0a",
   "metadata": {},
   "source": [
    "(b).UPDATE: The UPDATE commamnd is used to modify existing records in a table .It aloows us to change the value of one or more columns based on specified conditions .Here we have an example:"
   ]
  },
  {
   "cell_type": "markdown",
   "id": "cf08a4dd-04d3-421a-8aff-7a278901583f",
   "metadata": {},
   "source": [
    "lets update the department of an employee with EMployeeID 102"
   ]
  },
  {
   "cell_type": "code",
   "execution_count": null,
   "id": "d8867a59-1361-4c1c-9781-e4fecc14277e",
   "metadata": {},
   "outputs": [],
   "source": [
    "UPDATE Employees\n",
    "SET Department = \"Data Analyst\"\n",
    "WHERE EmpoyeeID = 102;"
   ]
  },
  {
   "cell_type": "markdown",
   "id": "e1ebd371-58bb-4ae5-810b-523be03b6e74",
   "metadata": {},
   "source": [
    "the query update the Department value to \"Data Analyst\" for the employee with EmployID 102."
   ]
  },
  {
   "cell_type": "markdown",
   "id": "f3960fbb-9e17-483a-a49b-bb883c0e6be8",
   "metadata": {},
   "source": [
    "(c).DELETE: The DELETE command is used to remove records from a table based on specified conditions .It allows us to delete one or more rows that meet a particular criterion .Here we have an example:"
   ]
  },
  {
   "cell_type": "markdown",
   "id": "a565ba0f-635e-420e-8f64-b1bf0d62369e",
   "metadata": {},
   "source": [
    "Suppose we want to delete an employee with EmployeeID 102 from the \"Employee\" table:\n"
   ]
  },
  {
   "cell_type": "code",
   "execution_count": null,
   "id": "f85c22a6-f207-4ebf-9447-61fff8662dac",
   "metadata": {},
   "outputs": [],
   "source": [
    "DELETES FROM Employees\n",
    "WHERE EmployeeID = 102;"
   ]
  },
  {
   "cell_type": "markdown",
   "id": "eaba0e3a-8a48-48b0-9368-0643fc8a1abc",
   "metadata": {},
   "source": [
    "this query removes the employee with EmployeeID 102 from the \"Employees\" table"
   ]
  },
  {
   "cell_type": "markdown",
   "id": "2ebbabcc-e172-4727-83f8-af860b80ef4c",
   "metadata": {},
   "source": [
    "In summary ,DML commands (INSERT,UPDATE,DELETE) are used to manipulate the data within a database, enabling us to insert new records ,update existing ones ,or delete specific data based on specific conditions."
   ]
  },
  {
   "cell_type": "code",
   "execution_count": null,
   "id": "d901f7f6-8ac4-40be-8cde-14f21ada8ae9",
   "metadata": {},
   "outputs": [],
   "source": []
  },
  {
   "cell_type": "markdown",
   "id": "3370ff0d-ddb9-4dda-83dd-786826731c1b",
   "metadata": {},
   "source": [
    "Q.4. What is DQL? Explain SELECT with an example."
   ]
  },
  {
   "cell_type": "markdown",
   "id": "8e24655f-6c6f-43bf-ac41-39c6eb6ae608",
   "metadata": {},
   "source": [
    "Ans.DQL stands for Data Query Language , which is a subset of SQL .DQL is primarily used to retrive data from database .The most commnaly used DQL command is SELECT, which allows us to query data from one or more tables in the database .Here we have an example for the SELECT command ."
   ]
  },
  {
   "cell_type": "markdown",
   "id": "c7401dcb-3897-47eb-b875-e277921968cb",
   "metadata": {},
   "source": [
    "Suppose we have a table named \"Employees\" with columns \"EmployeeID\", \"FirstName\",\"LastName\", and \"Department\"."
   ]
  },
  {
   "cell_type": "markdown",
   "id": "fa1a04e0-d52d-44d9-9232-6c6ae958f18f",
   "metadata": {},
   "source": [
    "To retriev the names of all employees from \"DataScience\" department ,we would use the following SELECT statement:\n"
   ]
  },
  {
   "cell_type": "markdown",
   "id": "363fd36d-d579-476f-a6f9-2071f1ccf768",
   "metadata": {},
   "source": [
    "SELECT FirstName, LastName\n",
    "FROM Employees\n",
    "WHERE Department = \"DataScience\"\n"
   ]
  },
  {
   "cell_type": "markdown",
   "id": "2f402d3b-e9e5-4ff0-b14c-4d2863ee3265",
   "metadata": {},
   "source": [
    "this query will return \"the FirstName\" and \"LastName\" of all employees who belong to the \"DtaScience\" department from the \"Employees \"table"
   ]
  },
  {
   "cell_type": "code",
   "execution_count": null,
   "id": "f021ea2e-a0c1-4944-8c82-882ab84f7e0f",
   "metadata": {},
   "outputs": [],
   "source": []
  },
  {
   "cell_type": "markdown",
   "id": "e3e84915-ae30-4eaa-961c-60eeb2f6fc57",
   "metadata": {},
   "source": [
    "Q.5. Explain Primary Key and Foreign Key."
   ]
  },
  {
   "cell_type": "markdown",
   "id": "40acd8d9-77e3-4db1-9933-ec32eb289aa7",
   "metadata": {},
   "source": [
    "Ans. Primary key is a field or combination of field that uniquely iddentifies each record in a table .It ensures that each row has a unique value , and it's used to enforce data integrity and facilitate efficient data retrieval .Here we have an example of how to create a primary key."
   ]
  },
  {
   "cell_type": "code",
   "execution_count": null,
   "id": "9f9eb33d-213f-4b81-af5d-0278e8838ec9",
   "metadata": {},
   "outputs": [],
   "source": [
    "import sqlite3\n",
    "\n",
    "conn = sqlite3.connect(\"my_database.db\")\n",
    "cursor = conn.curser()\n",
    "\n",
    "cursor.execute('''\n",
    "    CREATE TABLE students (\n",
    "         id INTEGER PRIMARY KEY,\n",
    "         name TEXT,\n",
    "         age INTEGER\n",
    "    )\n",
    "''')\n",
    "\n",
    "conn.comit()\n",
    "conn.colse()"
   ]
  },
  {
   "cell_type": "markdown",
   "id": "7c51fedd-ac63-4024-957f-f17447469e18",
   "metadata": {},
   "source": [
    "On other hand ,a foreign key is a field in one table that refers to the primary key in another table , it establishes a relation b/w the two tables ,enforcing referential integrity and enabling us to retrieve related data.Here  I am going to give an example, how to create a foreign key,"
   ]
  },
  {
   "cell_type": "code",
   "execution_count": null,
   "id": "df362f45-2196-46b3-8aaf-a31cd4ff809b",
   "metadata": {},
   "outputs": [],
   "source": [
    "import sqlite\n",
    "\n",
    "conn = sqlite.connect(\"my_database.db\")\n",
    "cursor = conn.cursor()\n",
    "\n",
    "cursor.exicute('''\n",
    "    CREATE TABLE courses (\n",
    "        course_id INTEGER PRIMARY KEY,\n",
    "        course_name TEXT,\n",
    "        student_id INTEGER,\n",
    "        FOREIGN KEY (student_id) REFERENCES student (id)\n",
    "    )\n",
    "''')\n",
    "conn.commit()\n",
    "conn.close()"
   ]
  },
  {
   "cell_type": "markdown",
   "id": "2505b389-60bd-4046-a486-8484424a1fbe",
   "metadata": {},
   "source": [
    "In this example ,the 'student_id' field in the 'courses'table is a foreign key that references the 'id' field in the 'students' table .This establises a link b/w the two tables based on the primary key and foreign key relationshiop."
   ]
  },
  {
   "cell_type": "code",
   "execution_count": null,
   "id": "500be54b-a96e-43d6-b15a-ae8bc2f9ca46",
   "metadata": {},
   "outputs": [],
   "source": []
  },
  {
   "cell_type": "markdown",
   "id": "e75dfb67-a812-45b3-bb8b-bca607441dc7",
   "metadata": {},
   "source": [
    "Q.6.Write a python code to connect MySQL to python. Explain the cursor() and execute() method."
   ]
  },
  {
   "cell_type": "markdown",
   "id": "0458b423-1dad-45c4-bd91-9f135725c83b",
   "metadata": {},
   "source": [
    "Ans. Here we have the code to connect MySQL to python"
   ]
  },
  {
   "cell_type": "code",
   "execution_count": null,
   "id": "1f0f2f6c-19b1-4c5d-93b5-b1cf583f7234",
   "metadata": {},
   "outputs": [],
   "source": [
    "import mysql.connector\n",
    "\n",
    "mydb = mysql.connector.connect(\n",
    "  host = \"localhost\",\n",
    "  user = \"xyz\",\n",
    "  password = \"password\"\n",
    ")\n",
    "print(mydb)\n",
    "mycursor = mydb.cursor\n",
    "mycursor.exicute(\"SHOW DATABASES\")\n",
    "for i in mycursor:\n",
    "    print(i)"
   ]
  },
  {
   "cell_type": "markdown",
   "id": "310bcc9f-a79f-4fe6-a8dc-1005e0871f53",
   "metadata": {},
   "source": [
    "(a).cursor(): This method creats a cursor object that is used to interact with the database.The cursor is like a control structure that allows us to navigate and manipulate the data in the database.We can use this cursor object to exicute SQL queries and fetch details."
   ]
  },
  {
   "cell_type": "markdown",
   "id": "5be49bef-1660-4ba1-a463-b66648e5af28",
   "metadata": {},
   "source": [
    "(b).exicute(): This method is used to exicute an SQL query on the database .We pass the SQL query as an argument to this method \n",
    "After exicuting the query ,we can use other cursor methods to retrieve and manipulate the results ,such as 'fetchone()', 'fetchall()' , and othrs."
   ]
  },
  {
   "cell_type": "code",
   "execution_count": null,
   "id": "8adcd1aa-45af-4068-84b8-0549dbee9e01",
   "metadata": {},
   "outputs": [],
   "source": []
  },
  {
   "cell_type": "markdown",
   "id": "b8007b41-1449-4796-aab1-ebb37bda3cea",
   "metadata": {},
   "source": [
    "Q.7. Give the order of execution of SQL clauses in an SQL query."
   ]
  },
  {
   "cell_type": "markdown",
   "id": "a20636b1-f282-4ae6-9952-3c645937fa2a",
   "metadata": {},
   "source": [
    "Ans.The order of execution of SQL clauses in a query generally follows these steps."
   ]
  },
  {
   "cell_type": "markdown",
   "id": "0f3618ad-0f9c-46d5-ad54-cf6b194115e7",
   "metadata": {},
   "source": [
    "(a).FROM: The table specifieed in the 'FROM' clause are evaluated ,creating a temporary result set that combines the specified tables . "
   ]
  },
  {
   "cell_type": "markdown",
   "id": "43763db8-e6c8-4818-834d-36f2ba08471d",
   "metadata": {},
   "source": [
    "(b).JOIN: If there are any join clauses ,the specified joins are performed based on the conditions specified in the 'ON' clause .this step further modifies the temporary result set by combining rows from multiple tables ."
   ]
  },
  {
   "cell_type": "markdown",
   "id": "cf73a60b-4afe-4323-9076-f9a6606a36bf",
   "metadata": {},
   "source": [
    "(c).WHERE: This clause is used to filter rows fromthe temporary result set based on the specified conditions ."
   ]
  },
  {
   "cell_type": "markdown",
   "id": "4c3f8bf0-f8b5-4db3-94fa-bfb33eb550d4",
   "metadata": {},
   "source": [
    "(d).GROUP BY: If a 'GROUP BY'  clause is present ,the result set is divided into groups based on the specified grouping columns .Aggregation function (eg: 'SUN','COUNT', etc) can it be applied to each group."
   ]
  },
  {
   "cell_type": "markdown",
   "id": "08fc006e-f6ba-4dbf-a1f0-50804096fd9a",
   "metadata": {},
   "source": [
    "(e).SELECT : This very clause is used to specify the columns to be included in the rsult set.This step is performed after previous steps, so it operates on the modified result set."
   ]
  },
  {
   "cell_type": "markdown",
   "id": "a3b285ea-c42e-4094-8fe5-9825012ac449",
   "metadata": {},
   "source": [
    "(f).ORDER BY: The result set is sorted based on the columns specified in the 'ORDER BY' clause  ."
   ]
  },
  {
   "cell_type": "markdown",
   "id": "48202fb8-c582-4261-8f13-ab14f1ba4a62",
   "metadata": {},
   "source": [
    "(g).LIMIT/OFFSET: If limit and OFFSET are used ,they restrict the number of rows returned and specified the starting point in the result set .Th\n",
    "\n"
   ]
  },
  {
   "cell_type": "markdown",
   "id": "9461378a-9e9d-47c0-8c0c-583902c90113",
   "metadata": {},
   "source": [
    "These steps describe the logical order of exicution .The actual pysical execution might be optimized by the database management system(DBMS) to improve the performance."
   ]
  },
  {
   "cell_type": "code",
   "execution_count": null,
   "id": "5fb075da-2b71-4686-8e51-50209076594a",
   "metadata": {},
   "outputs": [],
   "source": []
  }
 ],
 "metadata": {
  "kernelspec": {
   "display_name": "Python 3 (ipykernel)",
   "language": "python",
   "name": "python3"
  },
  "language_info": {
   "codemirror_mode": {
    "name": "ipython",
    "version": 3
   },
   "file_extension": ".py",
   "mimetype": "text/x-python",
   "name": "python",
   "nbconvert_exporter": "python",
   "pygments_lexer": "ipython3",
   "version": "3.10.8"
  }
 },
 "nbformat": 4,
 "nbformat_minor": 5
}
